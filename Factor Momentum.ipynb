{
 "cells": [
  {
   "cell_type": "markdown",
   "id": "f587b255-d1fd-48fa-9d8f-d11e259441d7",
   "metadata": {},
   "source": [
    "# Project: Momentum"
   ]
  },
  {
   "cell_type": "markdown",
   "id": "c9142740-4b0a-4cf8-97c3-57a35294a1ca",
   "metadata": {},
   "source": [
    "## Setting up the Environment"
   ]
  },
  {
   "cell_type": "code",
   "execution_count": 115,
   "id": "01b4b3ef-718e-49d2-a40c-f83599389810",
   "metadata": {},
   "outputs": [],
   "source": [
    "import datetime as dtm    \n",
    "from time import time\n",
    "import warnings\n",
    "import matplotlib.pyplot as plt\n",
    "import numpy as np\n",
    "import pandas as pd\n",
    "from tqdm import tqdm\n",
    "import math\n",
    "\n",
    "import sigtech.framework.infra.cal as cal\n",
    "import sigtech.framework as sig\n",
    "from sigtech.framework.services.strategy_service.service import *\n",
    "from sigtech.framework.strategies.reinvestment_strategy import get_single_stock_strategy\n",
    "from sigtech.framework.analytics.performance.metrics import summary\n",
    "from scipy import stats\n",
    "from scipy.stats.mstats import winsorize\n",
    "\n",
    "import QILibrary as q"
   ]
  },
  {
   "cell_type": "code",
   "execution_count": 116,
   "id": "dc1f3ccf-8f04-4c15-b831-d2452838f186",
   "metadata": {},
   "outputs": [],
   "source": [
    "env = q.config.init_environment()\n",
    "\n",
    "object_service = env.object_service()\n",
    "strategy_cache = env.strategy_service()"
   ]
  },
  {
   "cell_type": "markdown",
   "id": "1f83ae0b-6657-4382-a63c-c492defc14dd",
   "metadata": {},
   "source": [
    "## Construct our trading universe of stocks"
   ]
  },
  {
   "cell_type": "code",
   "execution_count": null,
   "id": "2fc10731-ad81-43e8-8daf-a7881cdf9187",
   "metadata": {},
   "outputs": [],
   "source": [
    "# fix a start and end date for the backtests.\n",
    "start_date = dtm.datetime(2002, 2, 1)\n",
    "end_date = dtm.datetime(2024, 2, 29)\n",
    "\n",
    "# define universe name\n",
    "universe_name = 'SPX IB UNIVERSE 2002-2024'\n",
    "\n",
    "# check the status of the universe and create the universe if it doesn't exist. \n",
    "# monthly data\n",
    "universe = q.universe_setup.universe_check(universe_name, start_date, end_date)\n",
    "universe"
   ]
  },
  {
   "cell_type": "code",
   "execution_count": null,
   "id": "0319d892-d8d1-432b-acb7-a48112d50a46",
   "metadata": {},
   "outputs": [],
   "source": [
    "HISTORY_START_DATE = dtm.datetime(2000, 1, 3)\n",
    "strategy_name = \"IB REINVEST\"\n",
    "universe, rs = q.reinvestment_securities.reinvestment_security_check(universe, HISTORY_START_DATE, strategy_name, universe_name)"
   ]
  },
  {
   "cell_type": "code",
   "execution_count": null,
   "id": "79311287-3161-4fe7-8c7e-bd3c4b58948d",
   "metadata": {},
   "outputs": [],
   "source": [
    "unique_dates = universe.index.get_level_values('Date').unique()\n",
    "print(unique_dates)  # monthly data"
   ]
  },
  {
   "cell_type": "code",
   "execution_count": null,
   "id": "2d7c29de-7e7d-443d-ad9c-6cfeeb1ff8bf",
   "metadata": {},
   "outputs": [],
   "source": [
    "universe"
   ]
  },
  {
   "cell_type": "markdown",
   "id": "bdc57da5-0a89-4b07-a4a0-32b951dc1794",
   "metadata": {},
   "source": [
    "### Downloading the stock characteristics"
   ]
  },
  {
   "cell_type": "code",
   "execution_count": null,
   "id": "9916f018-222f-45fc-84b2-3c63b6d5fbce",
   "metadata": {},
   "outputs": [],
   "source": [
    "signal_list = ['Price12Mom',  \n",
    "               'Price6Mom', \n",
    "               'EarningGrowth',\n",
    "               'Value_BY',\n",
    "               'Size', \n",
    "               'Value_EY',\n",
    "               'Monthly3Vol',\n",
    "               'Quality',\n",
    "               'ROE',\n",
    "               'InvToAssets',\n",
    "               \n",
    "               'Beta',\n",
    "               'Profitability',\n",
    "               'CapExToAssets',\n",
    "               'Value_CFY',\n",
    "               \n",
    "               'Price6Mom1',\n",
    "               'Price3Mom',\n",
    "               'PB_ratio',\n",
    "               'PE_ratio',\n",
    "               'PS_ratio',\n",
    "               'div_yield',\n",
    "               'DebtToEquity',\n",
    "               'operating_margin'\n",
    "               ]\n",
    "\n",
    "recalculate_indices = []\n",
    "\n",
    "universe = q.universe_setup.add_signals_main(signal_list, universe_name,\n",
    "                                               recalculate_indices=recalculate_indices)\n",
    "universe"
   ]
  },
  {
   "cell_type": "code",
   "execution_count": null,
   "id": "e52703dd-ffea-4fb6-92af-c5ca9cac826d",
   "metadata": {},
   "outputs": [],
   "source": [
    "universe.columns"
   ]
  },
  {
   "cell_type": "markdown",
   "id": "f86a9d53-926d-4f24-bad4-7c9f3fd95127",
   "metadata": {},
   "source": [
    "### Building Portfolio of each Factor"
   ]
  },
  {
   "cell_type": "code",
   "execution_count": null,
   "id": "4f648214-d957-4778-97a7-fb27ab202e77",
   "metadata": {},
   "outputs": [],
   "source": [
    "universe['QualityAgg'] = universe[['Quality', 'ROE','Profitability']].groupby('Date').apply(q.signals.create_aggregate_score, limits = [0.05,0.05]).droplevel(level = 0)\n",
    "universe['Value'] = universe[['Value_BY', 'Value_EY', 'Value_CFY']].groupby('Date').apply(q.signals.create_aggregate_score, limits = [0.05,0.05]).droplevel(level = 0)\n",
    "# universe['Momentum'] = universe[['Price6Mom', 'EarningGrowth']].groupby('Date').apply(q.signals.create_aggregate_score, limits = [0.05,0.05]).droplevel(level = 0)\n",
    "universe['ARP'] = universe[['Quality', 'Value']].groupby('Date').apply(q.signals.create_aggregate_score, limits = [0.0,0.0]).droplevel(level = 0)\n",
    "\n",
    "universe"
   ]
  },
  {
   "cell_type": "code",
   "execution_count": null,
   "id": "c6ff229e-4ddf-48a0-9f68-a7be60dca210",
   "metadata": {},
   "outputs": [],
   "source": [
    "n = 5\n",
    "factor_list = ['Price12Mom','Price6Mom','Price3Mom','Size','Monthly3Vol','InvToAssets', 'Beta', 'Profitability',\n",
    "       'CapExToAssets','UpDown','PE_ratio','PB_ratio','PS_ratio', 'div_yield', 'DebtToEquity',\n",
    "       'operating_margin','Quality','QualityAgg','Value','ARP']\n",
    "portfolio_type = 'Long_Short'\n",
    "universe = q.portfolio.create_portfolio(universe, factor_list, n, portfolio_type = portfolio_type)"
   ]
  },
  {
   "cell_type": "code",
   "execution_count": null,
   "id": "90383d17-9730-47af-8ffd-bd6982367899",
   "metadata": {},
   "outputs": [],
   "source": [
    "universe.columns"
   ]
  },
  {
   "cell_type": "code",
   "execution_count": null,
   "id": "2d6d8671-99bb-4b07-a87e-7df015d654db",
   "metadata": {},
   "outputs": [],
   "source": [
    "HISTORY_START_DATE = dtm.datetime(2000, 1, 3)\n",
    "strategy_name = \"IB REINVEST\"\n",
    "universe, rs = q.reinvestment_securities.reinvestment_security_check(universe, HISTORY_START_DATE, strategy_name, universe_name)"
   ]
  },
  {
   "cell_type": "code",
   "execution_count": null,
   "id": "f8243b5f-0f85-444c-92ea-d5f46a2ab467",
   "metadata": {},
   "outputs": [],
   "source": [
    "port_names = ['Price12Mom','Price6Mom','Price3Mom','Size','Monthly3Vol','InvToAssets', 'Beta', 'Profitability',\n",
    "       'CapExToAssets','UpDown','PE_ratio','PB_ratio', 'PS_ratio','div_yield', 'DebtToEquity',\n",
    "       'operating_margin','Quality','QualityAgg','Value','ARP']\n",
    "strategies, strategy_histories = q.signal_strategies.signal_strategies(universe, port_names=port_names, include_trading_costs=False)"
   ]
  },
  {
   "cell_type": "code",
   "execution_count": null,
   "id": "193bd96c-414d-4182-a59a-75c6bc9b515b",
   "metadata": {},
   "outputs": [],
   "source": [
    "strategy_names = [s.split(' ')[0] for s in [item[2] for item in list(strategy_histories.columns.values)]]\n",
    "matches = [j for i, item1 in enumerate(strategy_names) for j, item2 in enumerate(port_names) if item1.lower() == item2.lower()]\n",
    "strategy_names = [port_names[i] for i in matches]\n",
    "strategy_histories.columns = strategy_names\n",
    "\n",
    "strategy_histories"
   ]
  },
  {
   "cell_type": "markdown",
   "id": "823ec815-ee8f-49c2-b45f-a73908c7c606",
   "metadata": {},
   "source": [
    "#### Factor Momentum (Combined)"
   ]
  },
  {
   "cell_type": "code",
   "execution_count": 129,
   "id": "e39fb0e2-7fe0-45dc-a984-6e1bf13da1b5",
   "metadata": {},
   "outputs": [],
   "source": [
    "# get the rebalance dates (monthly)\n",
    "start_date = dtm.datetime(2002, 8, 29)\n",
    "end_date = dtm.datetime(2024, 2, 29)\n",
    "\n",
    "rebalance_dates = sig.SchedulePeriodic(start_date=start_date, end_date=end_date,\n",
    "        holidays='NYSE(T) CALENDAR', frequency='EOM', bdc=cal.BDC_FOLLOWING).all_data_dates()"
   ]
  },
  {
   "cell_type": "code",
   "execution_count": 130,
   "id": "7da02f49-2eb1-485f-8d62-690288bc74bb",
   "metadata": {},
   "outputs": [],
   "source": [
    "# use it later: every day return\n",
    "return_day = strategy_histories.pct_change().stack().rename_axis(['Date', 'internal_id']).to_frame(name='factormom')\n",
    "return_day = return_day.reset_index(level=1, drop=False)\n",
    "# return_day"
   ]
  },
  {
   "cell_type": "code",
   "execution_count": 131,
   "id": "db6a8740-d22a-42eb-a090-4d5afbaff3d1",
   "metadata": {},
   "outputs": [],
   "source": [
    "# long: choose the top n factors\n",
    "def top_n(group, n=4):\n",
    "    # Sort the group by the factormom column in descending order\n",
    "    sorted_group = group.sort_values('factormom', ascending=False)\n",
    "    \n",
    "    # Keep the top N values\n",
    "    top_n_values = sorted_group.head(n)\n",
    "    top_n_values = top_n_values[top_n_values['factormom'] > 0] # combine ts\n",
    "\n",
    "    return top_n_values"
   ]
  },
  {
   "cell_type": "code",
   "execution_count": 132,
   "id": "02cf3bc8-bb88-44d8-b554-734290ca319e",
   "metadata": {},
   "outputs": [],
   "source": [
    "# short: choose the bottom n factors\n",
    "def bottom_n(group, n=4):\n",
    "    # Sort the group by the factormom column in descending order\n",
    "    sorted_group = group.sort_values('factormom', ascending=False)\n",
    "    \n",
    "    # Keep the top N values\n",
    "    bottom_n_values = sorted_group.tail(n)\n",
    "    bottom_n_values = bottom_n_values[bottom_n_values['factormom'] <= 0] # combine ts\n",
    "    \n",
    "    return bottom_n_values"
   ]
  },
  {
   "cell_type": "code",
   "execution_count": 133,
   "id": "408e77b5-b07d-41f5-8534-4a6659394f5a",
   "metadata": {},
   "outputs": [],
   "source": [
    "def rebalancing(factormom_sorted, n=4):\n",
    "    factormom_rebalanced = factormom_sorted.reset_index()\n",
    "    \n",
    "    # Loop through all the rows\n",
    "    for i in range(n, len(factormom_rebalanced)):\n",
    "        if factormom_rebalanced.loc[i, 'Date'] not in rebalance_dates:\n",
    "            previous_row_index = i - n\n",
    "            previous_row_value = factormom_rebalanced.loc[previous_row_index, 'internal_id']\n",
    "            factormom_rebalanced.at[i, 'internal_id'] = previous_row_value\n",
    "\n",
    "    # Set the 'Date' column as the index again\n",
    "    factormom_rebalanced = factormom_rebalanced.set_index('Date')\n",
    "    factormom_rebalanced.index = factormom_rebalanced.index + pd.tseries.offsets.BusinessDay()\n",
    "    return factormom_rebalanced"
   ]
  },
  {
   "cell_type": "code",
   "execution_count": 134,
   "id": "debb56db-27ce-4882-af08-197c2e39f377",
   "metadata": {},
   "outputs": [],
   "source": [
    "def mom_cs_combined(strategy_histories, month, long = True, n = 5):\n",
    "    num = n\n",
    "    #print(num)\n",
    "    factormom = strategy_histories.shift(21).pct_change(month*21)\n",
    "    factormom_reshaped = factormom.stack().rename_axis(['Date', 'internal_id']).to_frame(name='factormom')\n",
    "    factormom_reshaped = factormom_reshaped.reset_index(level=1, drop=False)\n",
    "    \n",
    "    if long: \n",
    "        factormom_sorted = factormom_reshaped.groupby('Date').apply(top_n, num).reset_index(level=0, drop=True).drop('factormom', axis=1)\n",
    "    else:\n",
    "        factormom_sorted = factormom_reshaped.groupby('Date').apply(bottom_n, num).reset_index(level=0, drop=True).drop('factormom', axis=1)\n",
    "    \n",
    "    # Reset the index to convert it to a regular column\n",
    "    factormom_rebalanced = rebalancing(factormom_sorted, n = num)\n",
    "    return factormom_rebalanced\n",
    "    "
   ]
  },
  {
   "cell_type": "code",
   "execution_count": null,
   "id": "55f147c1-fdf1-4700-8639-74df738365f9",
   "metadata": {},
   "outputs": [],
   "source": [
    "# match the top n factors we choose to its return at time t\n",
    "factormom_long = mom_cs_combined(strategy_histories, month=3, long = False, n = 8)\n",
    "factormom_long.head(20)"
   ]
  },
  {
   "cell_type": "code",
   "execution_count": 136,
   "id": "049c7f65-95df-4368-8abf-8cda3033b017",
   "metadata": {},
   "outputs": [],
   "source": [
    "#fac_long = pd.merge(factormom_long, return_day, on=['Date', 'internal_id'], how='inner')"
   ]
  },
  {
   "cell_type": "code",
   "execution_count": 137,
   "id": "b50f5e56-c5be-4fc5-a4b2-edb3df385654",
   "metadata": {},
   "outputs": [],
   "source": [
    "def facmom_gross_longshort_combined(strategy_histories, month=6, port=True, n = 5):\n",
    "    mon = month\n",
    "    if port:\n",
    "        factormom_rebalanced = mom_cs_combined(strategy_histories, month=mon, long = port, n = 5)\n",
    "    else:\n",
    "        factormom_rebalanced = mom_cs_combined(strategy_histories, month=mon, long = port, n = 5)\n",
    "        \n",
    "    fac = pd.merge(factormom_rebalanced, return_day, on=['Date', 'internal_id'], how='inner')\n",
    "    facmom_return = fac.groupby('Date').mean()\n",
    "    facmom_gross = facmom_return['factormom']+1\n",
    "    facmom_gross = pd.DataFrame(facmom_gross.cumprod()*1000)\n",
    "    \n",
    "    # Get the first index value\n",
    "    first_index = facmom_gross.index[0]\n",
    "\n",
    "    # Create a new row with the desired index and 'factormom' value\n",
    "    new_row = pd.DataFrame({'factormom': 1000}, index=[first_index - pd.tseries.offsets.BusinessDay()])\n",
    "\n",
    "    # Concatenate the new row to the original DataFrame\n",
    "    facmom_gross = pd.concat([new_row, facmom_gross])\n",
    "    \n",
    "    #f\"facmom_cs_{month}_{port}\" = factormom_gross\n",
    "    return facmom_gross"
   ]
  },
  {
   "cell_type": "code",
   "execution_count": null,
   "id": "e1c74110-6d38-46ad-aa71-e0047f413888",
   "metadata": {},
   "outputs": [],
   "source": [
    "long = facmom_gross_longshort_combined(strategy_histories, month=12, port=True, n=8)\n",
    "short = facmom_gross_longshort_combined(strategy_histories, month=12, port=False, n=8)\n",
    "both = (long-short)/2+1000"
   ]
  },
  {
   "cell_type": "code",
   "execution_count": null,
   "id": "0a99e47b-1cb5-450b-9316-4fe438c9d404",
   "metadata": {},
   "outputs": [],
   "source": [
    "both"
   ]
  },
  {
   "cell_type": "markdown",
   "id": "9aa61b4c-489b-4baf-8a88-ec21293ded67",
   "metadata": {},
   "source": [
    "#### Factor Momentum (Cross-series)"
   ]
  },
  {
   "cell_type": "code",
   "execution_count": 140,
   "id": "b4f203c9-f573-4a4a-bb9e-566499c2ed6c",
   "metadata": {},
   "outputs": [],
   "source": [
    "# long: choose the top n factors\n",
    "def top_n_cs(group, n=4):\n",
    "    # Sort the group by the factormom column in descending order\n",
    "    sorted_group = group.sort_values('factormom', ascending=False)\n",
    "    \n",
    "    # Keep the top N values\n",
    "    top_n_values = sorted_group.head(n)\n",
    "#    top_n_values = top_n_values[top_n_values['factormom'] > 0] # combine ts\n",
    "\n",
    "    return top_n_values"
   ]
  },
  {
   "cell_type": "code",
   "execution_count": 141,
   "id": "20c7ff50-c8ce-4506-95e1-4db409bbce37",
   "metadata": {},
   "outputs": [],
   "source": [
    "# short: choose the bottom n factors\n",
    "def bottom_n_cs(group, n=4):\n",
    "    # Sort the group by the factormom column in descending order\n",
    "    sorted_group = group.sort_values('factormom', ascending=False)\n",
    "    \n",
    "    # Keep the top N values\n",
    "    bottom_n_values = sorted_group.tail(n)\n",
    "#    bottom_n_values = bottom_n_values[bottom_n_values['factormom'] <= 0] # combine ts\n",
    "    \n",
    "    return bottom_n_values"
   ]
  },
  {
   "cell_type": "code",
   "execution_count": 142,
   "id": "4216cc10-e56b-4156-8480-5b37b6e02ccd",
   "metadata": {},
   "outputs": [],
   "source": [
    "def mom_cs(strategy_histories, month, long = True, n = 5):\n",
    "    num = n\n",
    "    factormom = strategy_histories.shift(21).pct_change(month*21)\n",
    "    factormom_reshaped = factormom.stack().rename_axis(['Date', 'internal_id']).to_frame(name='factormom')\n",
    "    factormom_reshaped = factormom_reshaped.reset_index(level=1, drop=False)\n",
    "    \n",
    "    if long: \n",
    "        factormom_sorted = factormom_reshaped.groupby('Date').apply(top_n_cs, num).reset_index(level=0, drop=True).drop('factormom', axis=1)\n",
    "    else:\n",
    "        factormom_sorted = factormom_reshaped.groupby('Date').apply(bottom_n_cs, num).reset_index(level=0, drop=True).drop('factormom', axis=1)\n",
    "    \n",
    "    # Reset the index to convert it to a regular column\n",
    "    factormom_rebalanced = rebalancing(factormom_sorted, n = num)\n",
    "    return factormom_rebalanced"
   ]
  },
  {
   "cell_type": "code",
   "execution_count": null,
   "id": "25f63cb2-d6a8-4d79-a3c4-1176d789c14d",
   "metadata": {},
   "outputs": [],
   "source": [
    "# match the top n factors we choose to its return at time t\n",
    "factormom_long = mom_cs(strategy_histories, month=3, long = False, n = 8)\n",
    "factormom_long.head(20)"
   ]
  },
  {
   "cell_type": "code",
   "execution_count": 144,
   "id": "0af80e58-c98b-4b4a-b34e-92b2434607dc",
   "metadata": {},
   "outputs": [],
   "source": [
    "def facmom_gross_longshort(strategy_histories, month=6, port=True, n = 5):\n",
    "    mon = month\n",
    "    if port:\n",
    "        factormom_rebalanced = mom_cs(strategy_histories, month=mon, long = port, n = 5)\n",
    "    else:\n",
    "        factormom_rebalanced = mom_cs(strategy_histories, month=mon, long = port, n = 5)\n",
    "        \n",
    "    fac = pd.merge(factormom_rebalanced, return_day, on=['Date', 'internal_id'], how='inner')\n",
    "    facmom_return = fac.groupby('Date').mean()\n",
    "    facmom_gross = facmom_return['factormom']+1\n",
    "    facmom_gross = pd.DataFrame(facmom_gross.cumprod()*1000)\n",
    "    \n",
    "    # Get the first index value\n",
    "    first_index = facmom_gross.index[0]\n",
    "\n",
    "    # Create a new row with the desired index and 'factormom' value\n",
    "    new_row = pd.DataFrame({'factormom': 1000}, index=[first_index - pd.tseries.offsets.BusinessDay()])\n",
    "\n",
    "    # Concatenate the new row to the original DataFrame\n",
    "    facmom_gross = pd.concat([new_row, facmom_gross])\n",
    "    \n",
    "    #f\"facmom_cs_{month}_{port}\" = factormom_gross\n",
    "    return facmom_gross"
   ]
  },
  {
   "cell_type": "code",
   "execution_count": null,
   "id": "564972f8-5e46-4218-ac1b-0d23ac539550",
   "metadata": {},
   "outputs": [],
   "source": []
  },
  {
   "cell_type": "code",
   "execution_count": null,
   "id": "bd3906c9-f20a-4439-a79e-19447c257623",
   "metadata": {},
   "outputs": [],
   "source": []
  },
  {
   "cell_type": "markdown",
   "id": "cdc8a4e4-5990-4929-924d-39f9ed720942",
   "metadata": {},
   "source": [
    "#### Factor Momentum (Time-series)"
   ]
  },
  {
   "cell_type": "code",
   "execution_count": 145,
   "id": "7210ef9a-37a5-4cb3-bc39-7a8367c2a045",
   "metadata": {},
   "outputs": [],
   "source": [
    "def compare_rows(column):\n",
    "    return (column > 0).astype(int)"
   ]
  },
  {
   "cell_type": "code",
   "execution_count": 146,
   "id": "fa8e5728-f822-42e0-a8cd-2d74222f5b9a",
   "metadata": {},
   "outputs": [],
   "source": [
    "def mom_ts(strategy_histories, month, longshort = 1):\n",
    "    factormom = strategy_histories.shift(21).pct_change(month*21).dropna()\n",
    "    ts_result = factormom.apply(compare_rows)\n",
    "    ts_result_reshaped = ts_result.stack().rename_axis(['Date', 'internal_id']).to_frame(name='factormom')\n",
    "    ts_result_reshaped = ts_result_reshaped.reset_index(level=1, drop=False)\n",
    "    ts_result_reshaped.index = ts_result_reshaped.index + pd.tseries.offsets.BusinessDay()\n",
    "    fac_ts = pd.merge(ts_result_reshaped, return_day, on=['Date', 'internal_id'], how='inner')\n",
    "    \n",
    "    # Multiply columns and create a new column 'result'\n",
    "    fac_ts = ts_return_all(fac_ts, long = longshort)\n",
    "\n",
    "    # Delete 'factormom_x' and 'factormom_y' columns\n",
    "    fac_ts.drop(['factormom_x', 'factormom_y'], axis=1, inplace=True)\n",
    "    \n",
    "    facmom_return = fac_ts.groupby('Date').mean()\n",
    "    facmom_ts_gross = facmom_return['fac_ts']+1\n",
    "    facmom_ts_gross = pd.DataFrame(facmom_ts_gross.cumprod()*1000)\n",
    "    \n",
    "    # Get the first index value\n",
    "    first_index = facmom_ts_gross.index[0]\n",
    "\n",
    "    # Create a new row with the desired index and 'factormom' value\n",
    "    new_row = pd.DataFrame({'fac_ts': 1000}, index=[first_index - pd.tseries.offsets.BusinessDay()])\n",
    "\n",
    "    # Concatenate the new row to the original DataFrame\n",
    "    facmom_ts_gross = pd.concat([new_row, facmom_ts_gross])\n",
    "    \n",
    "    return facmom_ts_gross"
   ]
  },
  {
   "cell_type": "code",
   "execution_count": 147,
   "id": "894bc282-80b1-4f4d-a67a-ad0800ad8bb8",
   "metadata": {},
   "outputs": [],
   "source": [
    "def ts_return_all(fac_ts, long = 1):\n",
    "    if long == 1:\n",
    "        fac_ts['fac_ts'] = fac_ts['factormom_x'] * fac_ts['factormom_y']\n",
    "    elif long == 0:\n",
    "        fac_ts['fac_ts'] = (fac_ts['factormom_x']-1) * fac_ts['factormom_y']\n",
    "    else:\n",
    "        fac_ts['fac_ts'] = fac_ts['factormom_x'] * fac_ts['factormom_y']+(fac_ts['factormom_x']-1) * fac_ts['factormom_y']\n",
    "    return fac_ts"
   ]
  },
  {
   "cell_type": "code",
   "execution_count": 148,
   "id": "be005874-61bf-4d9b-8710-10cde67b30a4",
   "metadata": {},
   "outputs": [],
   "source": [
    "#ts = mom_ts(strategy_histories, month=12, long = True)"
   ]
  },
  {
   "cell_type": "code",
   "execution_count": 149,
   "id": "f1338420-fd4d-4f1a-a53e-556b0ea8a700",
   "metadata": {},
   "outputs": [],
   "source": [
    "ts = mom_ts(strategy_histories, month=12, longshort = 0)"
   ]
  },
  {
   "cell_type": "code",
   "execution_count": null,
   "id": "0ba5e27c-a1a8-4c61-945b-299a2609c9bb",
   "metadata": {},
   "outputs": [],
   "source": [
    "ts"
   ]
  },
  {
   "cell_type": "code",
   "execution_count": 151,
   "id": "8dca7fe5-8f88-4d53-87c9-1363b828256b",
   "metadata": {},
   "outputs": [],
   "source": [
    "momentum = strategy_histories.iloc[:, :3]"
   ]
  },
  {
   "cell_type": "code",
   "execution_count": 152,
   "id": "68266d57-9731-4e6a-9c3c-0b048c94df96",
   "metadata": {},
   "outputs": [],
   "source": [
    "formation = [3,6,12]"
   ]
  },
  {
   "cell_type": "code",
   "execution_count": null,
   "id": "9e7bd23c-6522-4a35-bf44-4b1e5a104964",
   "metadata": {},
   "outputs": [],
   "source": [
    "for mon in formation:\n",
    "    long = facmom_gross_longshort(strategy_histories, month=int(mon), port=True, n=8)\n",
    "    short = facmom_gross_longshort(strategy_histories, month=int(mon), port=False, n=8)\n",
    "    both = (long-short)/2+1000\n",
    "    \n",
    "    long_cbn = facmom_gross_longshort_combined(strategy_histories, month=int(mon), port=True, n=8)\n",
    "    short_cbn = facmom_gross_longshort_combined(strategy_histories, month=int(mon), port=False, n=8)\n",
    "    both_cbn = (long_cbn-short_cbn)/2+1000\n",
    "    \n",
    "    long_ts = mom_ts(strategy_histories, month=int(mon), longshort = 1)\n",
    "    short_ts = mom_ts(strategy_histories, month=int(mon), longshort = 0)\n",
    "    both_ts = mom_ts(strategy_histories, month=int(mon), longshort = 3)\n",
    "#    ts = mom_ts(strategy_histories, month=mon, long = 1)\n",
    "    \n",
    "    momentum[f\"Facmom_CS_{mon}\"] = both['factormom']\n",
    "    #momentum[f\"Facmom_CS_{mon}_Short\"] = short['factormom']\n",
    "    momentum[f\"Facmom_Combined_{mon}\"] = both_cbn['factormom']\n",
    "    momentum[f\"Facmom_TS_{mon}\"] = both_ts['fac_ts']"
   ]
  },
  {
   "cell_type": "code",
   "execution_count": null,
   "id": "3ae47a46-2809-43e4-b8c7-7f5f18799d98",
   "metadata": {},
   "outputs": [],
   "source": [
    "momentum"
   ]
  },
  {
   "cell_type": "code",
   "execution_count": 155,
   "id": "1683fd43-c904-43aa-a770-96c5a8ff8ef6",
   "metadata": {},
   "outputs": [],
   "source": [
    "# strategy_histories['FacMom'] = facmom_gross['factormom']\n",
    "# strategy_histories['FacMom_ts'] = facmom_ts_gross['fac_ts']"
   ]
  },
  {
   "cell_type": "code",
   "execution_count": null,
   "id": "ef1521fc-c617-47d5-825a-45f374fdd270",
   "metadata": {},
   "outputs": [],
   "source": []
  },
  {
   "cell_type": "code",
   "execution_count": 156,
   "id": "0d94b06e-a6de-4d98-a4f8-0ed78c3a6166",
   "metadata": {},
   "outputs": [],
   "source": [
    "start = dtm.datetime(2018, 2, 1)\n",
    "end = dtm.datetime(2024, 2, 29)\n",
    "# factor_names_hist = ['Value', 'Price12Mom', 'Price6Mom','Price3Mom','Size', 'ARP', 'Quality', 'Facmom_Combined_3', 'Facmom_Combined_6', 'Facmom_Combined_12']\n",
    "# factor_names_hist = ['Price12Mom', 'Price6Mom','Price3Mom', 'Facmom_CS_3', 'Facmom_CS_6', 'Facmom_CS_12', 'Facmom_TS_3','Facmom_TS_6','Facmom_TS_12']\n",
    "factor_names_hist = ['Price12Mom', 'Price6Mom','Price3Mom', 'Facmom_TS_3','Facmom_TS_6','Facmom_TS_12', 'Facmom_Combined_3', 'Facmom_Combined_6', 'Facmom_Combined_12', 'Facmom_CS_3', 'Facmom_CS_6', 'Facmom_CS_12']"
   ]
  },
  {
   "cell_type": "code",
   "execution_count": 157,
   "id": "0a2f89bd-382e-4046-bff6-4e4298828543",
   "metadata": {},
   "outputs": [],
   "source": [
    "def plot_history(history, start = start, end = end, factornames = factor_names_hist):\n",
    "    benchmark = history.loc[start]\n",
    "    history = history.divide(benchmark)*1000\n",
    "    history = history.loc[start:end]\n",
    "    history[factornames].plot(figsize=(20, 10))\n",
    "    return history"
   ]
  },
  {
   "cell_type": "code",
   "execution_count": null,
   "id": "c814e218-40a0-4329-be85-a7fd63976f5f",
   "metadata": {},
   "outputs": [],
   "source": [
    "#plot_history(history = strategy_histories)\n",
    "plot_history(history = momentum, start = dtm.datetime(2018, 2, 1), end = dtm.datetime(2024, 2, 29), factornames = factor_names_hist)"
   ]
  },
  {
   "cell_type": "code",
   "execution_count": null,
   "id": "8bb90d02-a061-470d-a592-72196f3b1a2e",
   "metadata": {},
   "outputs": [],
   "source": [
    "# factor_names_hist = ['Value', 'Price12Mom', 'Price6Mom','Price3Mom','Size', 'ARP', 'Quality']\n",
    "factor_names_hist = ['Price12Mom', 'Price6Mom','Price3Mom', 'Facmom_CS_3', 'Facmom_CS_6', 'Facmom_CS_12', 'Facmom_TS_3','Facmom_TS_6','Facmom_TS_12']\n",
    "plot_history(history = momentum, start=dtm.datetime(2003, 3, 5), end=dtm.datetime(2024, 2, 29), factornames = factor_names_hist)"
   ]
  },
  {
   "cell_type": "code",
   "execution_count": null,
   "id": "0a024b6b-0ee2-470c-981f-753c6b63fca8",
   "metadata": {},
   "outputs": [],
   "source": []
  },
  {
   "cell_type": "markdown",
   "id": "1f0be44c-b79a-4193-afe2-893f301e596d",
   "metadata": {},
   "source": [
    "### Compare Momentum with Others"
   ]
  },
  {
   "cell_type": "code",
   "execution_count": 160,
   "id": "2e379958-16ff-43ae-be11-c2923bfe5f4e",
   "metadata": {},
   "outputs": [],
   "source": [
    "strategy_all = strategy_histories.iloc[:, 3:].join(momentum, how='inner')"
   ]
  },
  {
   "cell_type": "code",
   "execution_count": 161,
   "id": "604e338e-0bac-4aa9-b923-db11f2a35834",
   "metadata": {},
   "outputs": [],
   "source": [
    "selected_strat = strategy_all[['Size','UpDown','Quality','Value','ARP','Price6Mom', 'Price3Mom', 'Facmom_TS_6', 'Facmom_CS_6']]"
   ]
  },
  {
   "cell_type": "code",
   "execution_count": null,
   "id": "fbb482d4-47f4-46d3-9536-0809482e00da",
   "metadata": {},
   "outputs": [],
   "source": [
    "strategy_all.columns"
   ]
  },
  {
   "cell_type": "code",
   "execution_count": null,
   "id": "716dafa4-59e2-4f4c-9889-4d09bc0fd086",
   "metadata": {},
   "outputs": [],
   "source": [
    "# factor_names_hist = ['Value', 'Price12Mom', 'Price6Mom','Price3Mom','Size', 'ARP', 'Quality']\n",
    "factor_names_hist = ['Size','UpDown','Quality','Value','ARP','Price6Mom', 'Price3Mom', 'Facmom_TS_6', 'Facmom_CS_6']\n",
    "plot_history(history = selected_strat, start = dtm.datetime(2018, 2, 1), end = dtm.datetime(2024, 2, 29), factornames = factor_names_hist)"
   ]
  },
  {
   "cell_type": "code",
   "execution_count": null,
   "id": "6d12b167-5b48-44cc-a796-dd1bfdf7e9ba",
   "metadata": {},
   "outputs": [],
   "source": [
    "plot_history(history = selected_strat, start = dtm.datetime(2004, 1, 29), end = dtm.datetime(2024, 2, 29), factornames = factor_names_hist)"
   ]
  },
  {
   "cell_type": "markdown",
   "id": "f1cbf8bd-35cc-4a38-bf35-e6e69c9a25c5",
   "metadata": {},
   "source": [
    "### Table Summary"
   ]
  },
  {
   "cell_type": "code",
   "execution_count": null,
   "id": "23e909b1-aa62-470c-b6c5-2ae8c6b2bada",
   "metadata": {},
   "outputs": [],
   "source": [
    "from sigtech.framework.analytics.performance.metrics import summary\n",
    " \n",
    "res = summary(selected_strat[dtm.datetime(2018, 2, 1):], cash=sig.CashIndex.from_currency(\"USD\").history())\n",
    "\n",
    "#res = summary(strategy_histories, cash=sig.CashIndex.from_currency(\"USD\").history())\n",
    "res.iloc[0:8,:][factor_names_hist]"
   ]
  },
  {
   "cell_type": "code",
   "execution_count": null,
   "id": "fc864442-6891-424c-b416-f80e4930cbf6",
   "metadata": {},
   "outputs": [],
   "source": [
    "strategy_histories"
   ]
  },
  {
   "cell_type": "code",
   "execution_count": null,
   "id": "f7304053-eecf-44a9-a65b-f6e093892454",
   "metadata": {},
   "outputs": [],
   "source": [
    "few_views = [sig.View.SUMMARY_SINGLE, sig.View.DRAWDOWN_PLOT, sig.View.ROLLING_PLOTS ]\n",
    "sig.PerformanceReport(selected_strat.iloc[:,[5,6,7,8]], cash=(sig.CashIndex.from_currency(\"USD\").history()*0+1), views=few_views).report()"
   ]
  },
  {
   "cell_type": "code",
   "execution_count": null,
   "id": "bf220456-3491-4274-81b0-d9766b311887",
   "metadata": {},
   "outputs": [],
   "source": []
  },
  {
   "cell_type": "code",
   "execution_count": null,
   "id": "1296a528-bdba-44d4-b4fc-365d6a2b1193",
   "metadata": {},
   "outputs": [],
   "source": []
  },
  {
   "cell_type": "markdown",
   "id": "056daf61-b6a6-4e32-9592-2c09dee14031",
   "metadata": {},
   "source": [
    "### Correlation"
   ]
  },
  {
   "cell_type": "code",
   "execution_count": null,
   "id": "d5aa1baa-3741-41fe-9a97-81221898ff57",
   "metadata": {},
   "outputs": [],
   "source": [
    "strategy_all = momentum.sort_index()\n",
    "strategy_returns = momentum.pct_change().dropna()\n",
    "\n",
    "R = np.corrcoef(strategy_returns.fillna(0), rowvar=False)\n",
    "R = pd.DataFrame(R, columns = strategy_returns.columns, index = strategy_returns.columns)\n",
    "R"
   ]
  },
  {
   "cell_type": "code",
   "execution_count": null,
   "id": "721dba66-41f4-4872-b006-0e2343eea29f",
   "metadata": {},
   "outputs": [],
   "source": []
  },
  {
   "cell_type": "code",
   "execution_count": null,
   "id": "2f7d6e24-43df-4326-bd22-4ed9b0b04bb3",
   "metadata": {},
   "outputs": [],
   "source": []
  },
  {
   "cell_type": "code",
   "execution_count": null,
   "id": "834891d4-3048-42c4-9f2a-eae583e60397",
   "metadata": {},
   "outputs": [],
   "source": [
    "sta = strategy_histories.shift().pct_change(21)\n",
    "sta"
   ]
  },
  {
   "cell_type": "code",
   "execution_count": 171,
   "id": "74836586-fa8f-4473-aa5e-e8bc363caf33",
   "metadata": {},
   "outputs": [],
   "source": [
    "import numpy as np\n",
    "import statsmodels"
   ]
  },
  {
   "cell_type": "code",
   "execution_count": 172,
   "id": "558b2f5e-c6cc-416a-93de-bd195124d94d",
   "metadata": {},
   "outputs": [],
   "source": [
    "sta = sta.dropna().abs()"
   ]
  },
  {
   "cell_type": "code",
   "execution_count": null,
   "id": "2c6738a9-a12c-4805-94c9-fab1af5e4a35",
   "metadata": {},
   "outputs": [],
   "source": [
    "sta"
   ]
  },
  {
   "cell_type": "code",
   "execution_count": null,
   "id": "cf0295e4-ce3c-4d6c-be92-39131e2651fb",
   "metadata": {},
   "outputs": [],
   "source": [
    "for column in sta.columns:\n",
    "    x = sta[column].values\n",
    "\n",
    "    # Estimate AR(1) coefficient\n",
    "    model = statsmodels.tsa.ar_model.AutoReg(x, lags=1)\n",
    "    result = model.fit()\n",
    "    ar_coefficient = result.params[1]\n",
    "    \n",
    "    p_value = result.pvalues[1]\n",
    "    is_significant = p_value < 0.05\n",
    "\n",
    "    print(f\"AR(1) coefficient for column {column}: {ar_coefficient}\")\n",
    "    print(f\"Is significant for column {column}: {is_significant}\")"
   ]
  },
  {
   "cell_type": "code",
   "execution_count": null,
   "id": "f04d2c03-11ee-4fee-b7af-7c6dd403a2fe",
   "metadata": {},
   "outputs": [],
   "source": []
  },
  {
   "cell_type": "code",
   "execution_count": null,
   "id": "f18256d8-c04e-472d-b0d7-2714adf5a723",
   "metadata": {},
   "outputs": [],
   "source": []
  },
  {
   "cell_type": "code",
   "execution_count": null,
   "id": "ddf41db2-64a4-4ff8-80f5-5602bafc73d8",
   "metadata": {},
   "outputs": [],
   "source": []
  },
  {
   "cell_type": "markdown",
   "id": "11d8f407-4356-4edd-869b-84c80b249cb8",
   "metadata": {},
   "source": [
    "### Spanning test"
   ]
  },
  {
   "cell_type": "code",
   "execution_count": 176,
   "id": "aba0e295-f6ac-42fe-9771-c2ed422465d6",
   "metadata": {},
   "outputs": [],
   "source": [
    "import pandas as pd\n",
    "import statsmodels.api as sm"
   ]
  },
  {
   "cell_type": "code",
   "execution_count": 180,
   "id": "9d276176-c1ec-4c0f-851d-a4cd59c967bc",
   "metadata": {},
   "outputs": [],
   "source": [
    "selected_strat = selected_strat['2018-02-01':'2024-02-29']"
   ]
  },
  {
   "cell_type": "code",
   "execution_count": null,
   "id": "ce0db971-a789-4770-b177-5b1566009379",
   "metadata": {},
   "outputs": [],
   "source": [
    "selected_strat"
   ]
  },
  {
   "cell_type": "code",
   "execution_count": 183,
   "id": "84748a42-0177-4f6f-bdc2-b2cc131a54ed",
   "metadata": {},
   "outputs": [],
   "source": [
    "selected_strat = selected_strat.replace([float('inf'), float('-inf')], pd.NA).dropna()"
   ]
  },
  {
   "cell_type": "code",
   "execution_count": null,
   "id": "1963b099-2f86-4ed7-a6d6-98839cbcde86",
   "metadata": {},
   "outputs": [],
   "source": [
    "results = {}\n",
    "\n",
    "# Loop through each pair of columns\n",
    "for i in range(len(selected_strat.columns)):\n",
    "    for j in range(len(selected_strat.columns)):\n",
    "        if i != j:\n",
    "            X = selected_strat.iloc[:, j]  # Independent variable\n",
    "            y = selected_strat.iloc[:, i]   # Dependent variable\n",
    "            \n",
    "            # Add a constant term for the intercept\n",
    "            X = sm.add_constant(X)\n",
    "            \n",
    "            # Fit regression model\n",
    "            model = sm.OLS(y, X).fit()\n",
    "            results[(selected_strat.columns[i], selected_strat.columns[j])] = model.summary()\n",
    "\n",
    "# Display the results\n",
    "for pair, summary in results.items():\n",
    "    print(f'Regression result for {pair}:')\n",
    "    print(summary)"
   ]
  },
  {
   "cell_type": "code",
   "execution_count": null,
   "id": "dedf24ea-3d35-49fd-8806-b0b05f20b11e",
   "metadata": {},
   "outputs": [],
   "source": []
  }
 ],
 "metadata": {
  "kernelspec": {
   "display_name": "Python [conda env:sig-env]",
   "language": "python",
   "name": "conda-env-sig-env-py"
  },
  "language_info": {
   "codemirror_mode": {
    "name": "ipython",
    "version": 3
   },
   "file_extension": ".py",
   "mimetype": "text/x-python",
   "name": "python",
   "nbconvert_exporter": "python",
   "pygments_lexer": "ipython3",
   "version": "3.9.0"
  }
 },
 "nbformat": 4,
 "nbformat_minor": 5
}
